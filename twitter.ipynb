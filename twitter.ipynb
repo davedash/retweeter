{
 "cells": [
  {
   "cell_type": "code",
   "execution_count": 6,
   "metadata": {},
   "outputs": [],
   "source": [
    "from dotenv import load_dotenv\n",
    "load_dotenv(override=True)\n",
    "\n",
    "import os\n",
    "import twitter\n",
    "api = twitter.Api(consumer_key=os.environ['TWITTER_API_KEY'],\n",
    "                  consumer_secret=os.environ['TWITTER_API_TOKEN'],\n",
    "                  access_token_key=os.environ['TWITTER_ACCESS_TOKEN'],\n",
    "                  access_token_secret=os.environ['TWITTER_ACCESS_TOKEN_SECRET']);\n",
    "\n",
    "rts = api.GetUserRetweets()\n",
    "last_id_retweeted = None\n",
    "if (rts):\n",
    "    last_id_retweeted = rts[0].retweeted_status.id\n",
    "\n",
    "statuses = api.GetUserTimeline(screen_name='cityofsanjose', include_rts=False, count=100, since_id=last_id_retweeted)\n",
    "\n",
    "statuses.reverse()\n",
    "\n",
    "from retweeter.helpers import probably_english\n",
    "for status in statuses:\n",
    "    if not probably_english(status.text):\n",
    "        continue;\n",
    "    print(status.id);\n",
    "    try:\n",
    "      api.PostRetweet(status.id);\n",
    "    except twitter.TwitterError as e:\n",
    "        print(e);"
   ]
  }
 ],
 "metadata": {
  "kernelspec": {
   "display_name": "Python 3",
   "language": "python",
   "name": "python3"
  },
  "language_info": {
   "codemirror_mode": {
    "name": "ipython",
    "version": 3
   },
   "file_extension": ".py",
   "mimetype": "text/x-python",
   "name": "python",
   "nbconvert_exporter": "python",
   "pygments_lexer": "ipython3",
   "version": "3.8.5"
  }
 },
 "nbformat": 4,
 "nbformat_minor": 4
}
